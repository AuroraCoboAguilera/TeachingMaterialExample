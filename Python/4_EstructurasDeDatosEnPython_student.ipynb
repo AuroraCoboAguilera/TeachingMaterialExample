{
  "nbformat": 4,
  "nbformat_minor": 0,
  "metadata": {
    "colab": {
      "provenance": []
    },
    "kernelspec": {
      "name": "python3",
      "display_name": "Python 3"
    },
    "language_info": {
      "name": "python"
    }
  },
  "cells": [
    {
      "cell_type": "markdown",
      "source": [
        "# Introducción a las estructuras de datos en Python\n",
        "\n",
        "### Data Fundamentals\n",
        "\n",
        "#### Enero 2023\n",
        "\n",
        "**Aurora Cobo Aguilera**\n",
        "\n",
        "**The Valley**\n",
        "\n"
      ],
      "metadata": {
        "id": "DBZs9D_4dpHQ"
      }
    },
    {
      "cell_type": "markdown",
      "source": [
        "# Colecciones de datos en Python\n",
        "\n",
        "Hay cuatro tipos de colecciones que nos permiten recoger o tener datos agrupados en Python:"
      ],
      "metadata": {
        "id": "jbolNR4CeYLC"
      }
    },
    {
      "cell_type": "markdown",
      "source": [
        "* La **lista** es una colección ordenada que podemos modificar y que admite miembros duplicados."
      ],
      "metadata": {
        "id": "iG2-W-uKecCE"
      }
    },
    {
      "cell_type": "code",
      "execution_count": null,
      "metadata": {
        "id": "iXQuPchOdX2Z"
      },
      "outputs": [],
      "source": [
        "myList = [\"apple\", \"banana\", \"pear\", \"orange\", \"lemon\", \"cherry\", \"kiwi\", \"melon\", \"mango\"]\n",
        "print(myList)"
      ]
    },
    {
      "cell_type": "markdown",
      "source": [
        "* La **tupla** es una colección ordenada e inalterable de elementos que también admite elementos duplicados. La diferencia con las listas es que no permite modificar sus elementos."
      ],
      "metadata": {
        "id": "xU48JoEDeu7Q"
      }
    },
    {
      "cell_type": "code",
      "source": [
        "myTuple = (\"apple\", \"banana\", \"pear\", \"orange\")\n",
        "print(myTuple)"
      ],
      "metadata": {
        "id": "Bo8-4x5ce3OZ"
      },
      "execution_count": null,
      "outputs": []
    },
    {
      "cell_type": "markdown",
      "source": [
        "* El **conjunto** es una colección de elementos que no está ordenada ni indexada y en la que no puede haber miembros duplicados."
      ],
      "metadata": {
        "id": "CRfu8pO6fD7b"
      }
    },
    {
      "cell_type": "code",
      "source": [
        "mySet = {\"apple\", \"banana\", \"pear\", \"kiwi\", \"melon\", \"mango\"}\n",
        "print(mySet)"
      ],
      "metadata": {
        "id": "oNxz3ol_fJOz"
      },
      "execution_count": null,
      "outputs": []
    },
    {
      "cell_type": "markdown",
      "source": [
        "* El **diccionario** es una colección de elementos no ordenados, modificables e indexados que no admite miembros duplicados."
      ],
      "metadata": {
        "id": "x7W7zrnudoJ8"
      }
    },
    {
      "cell_type": "code",
      "source": [
        "mydict = {\n",
        "  \"name\": \"Ana\",\n",
        "  \"surname\": \"García\",\n",
        "  \"age\": 25\n",
        "}\n",
        "print(mydict)"
      ],
      "metadata": {
        "id": "e78ges0JfP1E"
      },
      "execution_count": null,
      "outputs": []
    },
    {
      "cell_type": "markdown",
      "source": [
        "Cuando se elige un tipo de colección, es útil entender las propiedades de ese tipo. Elegir el tipo correcto para un conjunto de datos concreto puede significar la conservación del significado, y puede significar una mayor eficiencia o seguridad. A continuación, vamos a revisar las operaciones principales de las listas y los diccionarios ya que son los dos tipos de colecciones con los que más vamos a trabajar en este curso."
      ],
      "metadata": {
        "id": "t7wVkiOyfbGF"
      }
    },
    {
      "cell_type": "markdown",
      "source": [
        "## Listas en Python\n",
        "\n",
        "Como hemos indicado, una lista es una colección ordenada de elementos que podemos modificar y que admite elementos repetidos. Es uno de los tipos más habituales a la hora de programar en Python, por lo que son múltiples las operaciones que podemos realizar con las listas. A continuación  mostramos algunos ejemplos de las más comunes."
      ],
      "metadata": {
        "id": "LDZmDapefjAI"
      }
    },
    {
      "cell_type": "markdown",
      "source": [
        "### Crear una lista\n",
        "En Python, las listas se escriben con corchetes `[ ]`. Así que para crear una lista, podemos simplemente incluir una serie de elementos separados por comas entre los corchetes:"
      ],
      "metadata": {
        "id": "PmOVjGptfpQS"
      }
    },
    {
      "cell_type": "code",
      "source": [
        "myList = [\"apple\", \"banana\", \"pear\", \"orange\", \"lemon\", \"cherry\", \"kiwi\", \"melon\", \"mango\"]\n",
        "print(myList)"
      ],
      "metadata": {
        "id": "ebbIoo1sfStM"
      },
      "execution_count": null,
      "outputs": []
    },
    {
      "cell_type": "markdown",
      "source": [
        "Podemos definir una lista vacía si no incluimos elementos"
      ],
      "metadata": {
        "id": "b-uLKPKYfzUt"
      }
    },
    {
      "cell_type": "code",
      "source": [
        "myEmpty_List = []\n",
        "print(myEmpty_List)"
      ],
      "metadata": {
        "id": "6ZpHIoICfvTd"
      },
      "execution_count": null,
      "outputs": []
    },
    {
      "cell_type": "markdown",
      "source": [
        "También puedes crear una lista con el constructor `list ()`."
      ],
      "metadata": {
        "id": "5hqD2Gdrf6OX"
      }
    },
    {
      "cell_type": "code",
      "source": [
        "myList2 =list([ \"lemon\", \"cherry\", \"kiwi\", \"mango\"])\n",
        "print(myList2)"
      ],
      "metadata": {
        "id": "ocwWSK-Rf2tf"
      },
      "execution_count": null,
      "outputs": []
    },
    {
      "cell_type": "markdown",
      "source": [
        "### Indexación de elementos\n",
        "Podemos acceder a sus elementos indexando la lista de forma similar a los caracteres de un *string* o cadena.\n",
        "\n",
        "Analiza los siguientes ejemplos intentando adivinar la salida que vamos a obtener antes de ejecutarlos..."
      ],
      "metadata": {
        "id": "b32n9ntWgAf-"
      }
    },
    {
      "cell_type": "code",
      "source": [
        "print(myList[1])"
      ],
      "metadata": {
        "id": "EFS_pKazf85O"
      },
      "execution_count": null,
      "outputs": []
    },
    {
      "cell_type": "code",
      "source": [
        "print(myList[3:5])"
      ],
      "metadata": {
        "id": "wBUmExo_gKFa"
      },
      "execution_count": null,
      "outputs": []
    },
    {
      "cell_type": "code",
      "source": [
        "print(myList[:4])"
      ],
      "metadata": {
        "id": "0LQwddtrgLp-"
      },
      "execution_count": null,
      "outputs": []
    },
    {
      "cell_type": "code",
      "source": [
        "print(myList[5:])"
      ],
      "metadata": {
        "id": "cpQbodv-gNf3"
      },
      "execution_count": null,
      "outputs": []
    },
    {
      "cell_type": "code",
      "source": [
        "print(myList[-1])"
      ],
      "metadata": {
        "id": "2sTVTXahgPiG"
      },
      "execution_count": null,
      "outputs": []
    },
    {
      "cell_type": "code",
      "source": [
        "print(myList[-5:-1])"
      ],
      "metadata": {
        "id": "mY8l8sN4gT6P"
      },
      "execution_count": null,
      "outputs": []
    },
    {
      "cell_type": "markdown",
      "source": [
        "### Comprobar la presencia de un elemento\n",
        "Podemos utilizar la palabra clave `in` para comprobar si un elemento está en una lista:"
      ],
      "metadata": {
        "id": "5SjolxlmgZ8v"
      }
    },
    {
      "cell_type": "code",
      "source": [
        "\"melon\" in myList"
      ],
      "metadata": {
        "id": "INVibxr2gV5u"
      },
      "execution_count": null,
      "outputs": []
    },
    {
      "cell_type": "code",
      "source": [
        "\"banana\" in myList"
      ],
      "metadata": {
        "id": "gtl-SGriiG7C"
      },
      "execution_count": null,
      "outputs": []
    },
    {
      "cell_type": "markdown",
      "source": [
        "### Calcular la longitud de una lista\n",
        "Podemos utilizar la función `len ()` para calcular el número de elementos de la lista:"
      ],
      "metadata": {
        "id": "sP-5uNAEiXUg"
      }
    },
    {
      "cell_type": "code",
      "source": [
        "print(len(myList))"
      ],
      "metadata": {
        "id": "HS3HSY8MiIv7"
      },
      "execution_count": null,
      "outputs": []
    },
    {
      "cell_type": "markdown",
      "source": [
        "### Concatenar listas\n",
        "Podemos utilizar el operador `+` para crear una nueva lista uniendo los elementos de las dos listas\n"
      ],
      "metadata": {
        "id": "vi_ti1PkifOQ"
      }
    },
    {
      "cell_type": "code",
      "source": [
        "myUnionList = myList + myList2\n",
        "print(myUnionList)"
      ],
      "metadata": {
        "id": "uMBuvRNAibLB"
      },
      "execution_count": null,
      "outputs": []
    },
    {
      "cell_type": "markdown",
      "source": [
        "### Modificación de elementos de la lista\n",
        "Podemos modificar el valor de un elemento de la lista, accediendo a él directamente:"
      ],
      "metadata": {
        "id": "niVBjt5TinSA"
      }
    },
    {
      "cell_type": "code",
      "source": [
        "myList[1] = \"blackberry\"\n",
        "print(myList)"
      ],
      "metadata": {
        "id": "MZi7KGH9ikfR"
      },
      "execution_count": null,
      "outputs": []
    },
    {
      "cell_type": "markdown",
      "source": [
        "E incluir un elemento repetido:"
      ],
      "metadata": {
        "id": "O0VASU4IiyXm"
      }
    },
    {
      "cell_type": "code",
      "source": [
        "myList[1] = \"apple\"\n",
        "print(myList)"
      ],
      "metadata": {
        "id": "aBpdLlUwipvp"
      },
      "execution_count": null,
      "outputs": []
    },
    {
      "cell_type": "markdown",
      "source": [
        "Podemos añadir elementos al final de una lista utilizando el método `append ()`:"
      ],
      "metadata": {
        "id": "D-F08JiMi2qD"
      }
    },
    {
      "cell_type": "code",
      "source": [
        "myList.append(\"higo\")\n",
        "print(myList)"
      ],
      "metadata": {
        "id": "CmZuREfVi0dh"
      },
      "execution_count": null,
      "outputs": []
    },
    {
      "cell_type": "markdown",
      "source": [
        "O utilizar el método `insert ()` para añadir un elemento en una posición específica:"
      ],
      "metadata": {
        "id": "DVTZ3Js7i9Wt"
      }
    },
    {
      "cell_type": "code",
      "source": [
        "myList.insert(1, \"banana\")\n",
        "print(myList)"
      ],
      "metadata": {
        "id": "dHSQlXIQi44w"
      },
      "execution_count": null,
      "outputs": []
    },
    {
      "cell_type": "markdown",
      "source": [
        "Si queremos eliminar elementos de la lista, tenemos varias opciones:\n",
        "\n",
        "* El método `remove ()` elimina el elemento indicado."
      ],
      "metadata": {
        "id": "VuWrStnKjDiq"
      }
    },
    {
      "cell_type": "code",
      "source": [
        "myList.remove(\"pear\")\n",
        "print(myList)"
      ],
      "metadata": {
        "id": "dJ4lbEz7i_eR"
      },
      "execution_count": null,
      "outputs": []
    },
    {
      "cell_type": "markdown",
      "source": [
        "Si tenemos un elemento que se repite, `remove ()` sólo lo elimina de su primera posición"
      ],
      "metadata": {
        "id": "7tKkrejwjKW2"
      }
    },
    {
      "cell_type": "code",
      "source": [
        "myList.remove(\"apple\")\n",
        "print(myList)"
      ],
      "metadata": {
        "id": "kmkLGLO_jHo5"
      },
      "execution_count": null,
      "outputs": []
    },
    {
      "cell_type": "markdown",
      "source": [
        "* El método `pop ()` elimina el elemento indicado por su índice o posición (si no indicamos ningún índice, se elimina el último)\n"
      ],
      "metadata": {
        "id": "A0WHPgAwjQJb"
      }
    },
    {
      "cell_type": "code",
      "source": [
        "myList.pop(4)\n",
        "print(myList)"
      ],
      "metadata": {
        "id": "QFMPez_OjMr5"
      },
      "execution_count": null,
      "outputs": []
    },
    {
      "cell_type": "code",
      "source": [
        "myList.pop()\n",
        "print(myList)"
      ],
      "metadata": {
        "id": "tqk2hRf0jSQf"
      },
      "execution_count": null,
      "outputs": []
    },
    {
      "cell_type": "markdown",
      "source": [
        "* La palabra clave `del` nos permite eliminar un elemento indicado por su índice o incluso eliminar toda la lista si no indicamos ningún elemento concreto"
      ],
      "metadata": {
        "id": "cRHqMzKrjXOH"
      }
    },
    {
      "cell_type": "code",
      "source": [
        "del myList[0]\n",
        "print(myList)"
      ],
      "metadata": {
        "id": "b2IgMngdjUaR"
      },
      "execution_count": null,
      "outputs": []
    },
    {
      "cell_type": "code",
      "source": [
        "myList2 = ['lemon', 'cherry', 'kiwi']\n",
        "print(myList2)\n",
        "del myList2\n",
        "print(myList2)"
      ],
      "metadata": {
        "id": "o_eG3LDnjbJZ"
      },
      "execution_count": null,
      "outputs": []
    },
    {
      "cell_type": "markdown",
      "source": [
        "* El método `clear ()` nos permite vaciar la lista"
      ],
      "metadata": {
        "id": "HoaFPSYqjgEn"
      }
    },
    {
      "cell_type": "code",
      "source": [
        "myList2 = ['lemon', 'cherry', 'kiwi']\n",
        "print(myList2)\n",
        "myList2.clear()\n",
        "print(myList2)"
      ],
      "metadata": {
        "id": "4JdSWRZdjc7u"
      },
      "execution_count": null,
      "outputs": []
    },
    {
      "cell_type": "markdown",
      "source": [
        "### Ejercicios con listas y funciones"
      ],
      "metadata": {
        "id": "jOvXxClSSSeq"
      }
    },
    {
      "cell_type": "markdown",
      "source": [
        "> **Ejercicio**: Diseña una función que calcule el sumatorio de la diferencia entre números contiguos en una lista. Por ejemplo, para la lista [1 3 6 10] devolverá 9, que es 2+3+4 (el 2 resulta de calcular 3 − 1, el 3 de calcular 6 − 3 y el 4 de calcular 10 − 6)."
      ],
      "metadata": {
        "id": "DRTd_oEFSVCs"
      }
    },
    {
      "cell_type": "code",
      "source": [
        "#<SOL>\n",
        "def sumatorioContiguos(lista):\n",
        "  suma = 0\n",
        "  for i in range(len(lista)-1):\n",
        "    suma = suma + (lista[i+1]-lista[i])\n",
        "\n",
        "  return suma\n",
        "\n",
        "listaejemplo = [1, 3, 6, 10, 45]\n",
        "print(sumatorioContiguos(listaejemplo))\n",
        "\n",
        "#</SOL>"
      ],
      "metadata": {
        "id": "8oVVSqnnSWF7",
        "colab": {
          "base_uri": "https://localhost:8080/"
        },
        "outputId": "b6b75ee4-6bf3-4be5-8869-1d0e7dae6fb4"
      },
      "execution_count": null,
      "outputs": [
        {
          "output_type": "stream",
          "name": "stdout",
          "text": [
            "44\n"
          ]
        }
      ]
    },
    {
      "cell_type": "markdown",
      "source": [
        "> **Ejercicio**: Diseñe una función que calcule el elemento mayor de una lista pasada como argumento."
      ],
      "metadata": {
        "id": "RpKAHmD7SdtS"
      }
    },
    {
      "cell_type": "code",
      "source": [
        "#<SOL>\n",
        "def maximo(lista):\n",
        "  max_valor = lista[0]\n",
        "  for item in lista:\n",
        "    if item > max_valor:\n",
        "      max_valor = item\n",
        "  return max_valor\n",
        "\n",
        "print('El máximo valor es', maximo([300, 1, 8, 23, 5, 21]))\n",
        "\n",
        "#</SOL>"
      ],
      "metadata": {
        "id": "1CPWUmE-Sdfv",
        "colab": {
          "base_uri": "https://localhost:8080/"
        },
        "outputId": "1f5737a6-089c-40d8-8495-3d74e8733291"
      },
      "execution_count": null,
      "outputs": [
        {
          "output_type": "stream",
          "name": "stdout",
          "text": [
            "El máximo valor es 300\n"
          ]
        }
      ]
    },
    {
      "cell_type": "markdown",
      "source": [
        "> **Ejercicio**: Diseñe una función que calcule la media de una lista de números pasada como argumento. La media de una lista vacía es cero."
      ],
      "metadata": {
        "id": "8lGqafZLSdS9"
      }
    },
    {
      "cell_type": "code",
      "source": [
        "#<SOL>\n",
        "import numpy as np\n",
        "\n",
        "def media(lista):\n",
        "  if lista == []:     # len(lista) == 0\n",
        "    respuesta = 0\n",
        "  else:\n",
        "    respuesta = sum(lista)/len(lista)\n",
        "  return respuesta\n",
        "\n",
        "lista = [2, 3, 4]\n",
        "print(media(lista))\n",
        "print(np.mean(lista))\n",
        "#</SOL>"
      ],
      "metadata": {
        "id": "9Mpys2jMSePo",
        "colab": {
          "base_uri": "https://localhost:8080/"
        },
        "outputId": "1ae49815-fe1b-424a-ff68-bde0dff31202"
      },
      "execution_count": null,
      "outputs": [
        {
          "output_type": "stream",
          "name": "stdout",
          "text": [
            "3.0\n",
            "3.0\n"
          ]
        }
      ]
    },
    {
      "cell_type": "markdown",
      "source": [
        "> **Ejercicio**: Diseñe una función que reciba una lista de palabras y devuelva, simultáneamente, la primera y la última palabra según el orden alfabético."
      ],
      "metadata": {
        "id": "luiy6tW3S74c"
      }
    },
    {
      "cell_type": "code",
      "source": [
        "#<SOL>\n",
        "def devolverPrimeraYUltima(listaPalabras):\n",
        "  # Primero pasamos todo a minúscula para comparar mayúsculas y minúsculas por igual\n",
        "  listaPalabrasMinus = []\n",
        "  for palabra in listaPalabras:\n",
        "    listaPalabrasMinus.append(palabra.lower())\n",
        "  # Hay funciones que te ordenan!!!!\n",
        "  listaOrdenada = sorted(listaPalabrasMinus)\n",
        "  primera = listaOrdenada[0]\n",
        "  ultima = listaOrdenada[-1]\n",
        "  return primera, ultima\n",
        "\n",
        "# Ejemplo de prueba\n",
        "datos = ['amarillo', 'Azul', 'Verde', 'Rojo', 'Magenta']\n",
        "primera_ejemplo, ultima_ejemplo = devolverPrimeraYUltima(datos)\n",
        "print('La primera es', primera_ejemplo, 'y la última', ultima_ejemplo)\n",
        "\n",
        "#</SOL>"
      ],
      "metadata": {
        "id": "SAjk_rGtS7xd",
        "colab": {
          "base_uri": "https://localhost:8080/"
        },
        "outputId": "7514069e-61c8-487f-8f95-6a86663a4703"
      },
      "execution_count": null,
      "outputs": [
        {
          "output_type": "stream",
          "name": "stdout",
          "text": [
            "La primera es amarillo y la última verde\n"
          ]
        }
      ]
    },
    {
      "cell_type": "markdown",
      "source": [
        "> **Ejercicio**: Diseña una función que reciba dos listas de números y devuelva una lista con los números comunes entre ellas, sin repetir ninguno, la intersección."
      ],
      "metadata": {
        "id": "a3KUxoknUwRh"
      }
    },
    {
      "cell_type": "code",
      "source": [
        "#<SOL>\n",
        "def listaConjunta(lista1, lista2):\n",
        "  listaComun = []\n",
        "  for elemento in lista1:\n",
        "    if elemento not in listaComun and elemento in lista2:\n",
        "      listaComun.append(elemento)\n",
        "  return listaComun\n",
        "\n",
        "print(listaConjunta([1, 4, 2, 1, 6, 8, 2], [9, 2, 1, 4, 5]))\n",
        "\n",
        "#</SOL>"
      ],
      "metadata": {
        "id": "nzo2_nNpUwH5",
        "colab": {
          "base_uri": "https://localhost:8080/"
        },
        "outputId": "9577dae9-99c6-443e-a164-25e8ba00187f"
      },
      "execution_count": null,
      "outputs": [
        {
          "output_type": "stream",
          "name": "stdout",
          "text": [
            "[1, 4, 2]\n"
          ]
        }
      ]
    },
    {
      "cell_type": "markdown",
      "source": [
        "> **Ejercicio**: Diseñe una función *duplica* que modifique una lista de entrada duplicando el valor de cada uno de sus elementos."
      ],
      "metadata": {
        "id": "ps1OOZh7U-X4"
      }
    },
    {
      "cell_type": "code",
      "source": [
        "#<SOL>\n",
        "def duplicaLista(lista1):\n",
        "  for i in range(len(lista1)):\n",
        "    lista1[i] = lista1[i]*2\n",
        "  return lista1\n",
        "print(duplicaLista([1, 2, 3, 4, 5]))\n",
        "#</SOL>"
      ],
      "metadata": {
        "id": "aU2ObxBHU-OP",
        "colab": {
          "base_uri": "https://localhost:8080/"
        },
        "outputId": "b760e1a8-9565-4b8e-db8e-ff654a9a457e"
      },
      "execution_count": null,
      "outputs": [
        {
          "output_type": "stream",
          "name": "stdout",
          "text": [
            "[2, 4, 6, 8, 10]\n"
          ]
        }
      ]
    },
    {
      "cell_type": "markdown",
      "source": [
        "> **Ejercicio EXTRA!**: Diseñe una función que reciba una lista de cadenas y devuelva el prefijo común más largo. Por ejemplo, 'pol' es el prefijo común más largo de esta lista: ['policia', 'políndromo', 'poliedro', 'polo', 'política', 'polinizar', 'polífona']"
      ],
      "metadata": {
        "id": "Atd2vPDdS7qK"
      }
    },
    {
      "cell_type": "code",
      "source": [
        "#<SOL>\n",
        "\n",
        "#</SOL>"
      ],
      "metadata": {
        "id": "7l0sEKS9S7hl"
      },
      "execution_count": null,
      "outputs": []
    },
    {
      "cell_type": "markdown",
      "source": [
        "> **Ejercicio EXTRA!**: Diseñe un programa que devuelva los números perfectos comprendidos entre 1 y N, siendo N un número pasado como argumento. TIP: Puedes usar la función definida en el notebook anterior y copiarla aquí."
      ],
      "metadata": {
        "id": "tPpD2wpVEprX"
      }
    },
    {
      "cell_type": "code",
      "source": [
        "#<SOL>\n",
        "\n",
        "#</SOL>"
      ],
      "metadata": {
        "id": "TCSKH2z6EpUx"
      },
      "execution_count": null,
      "outputs": []
    },
    {
      "cell_type": "markdown",
      "source": [
        "> **Ejercicio MÁS DIFÍCIL!**: Tenemos los tiempos de cada ciclista y etapa para los participantes en la última vuelta ciclista local. La lista ciclistas contiene una serie de nombres. La matriz tiempos tiene una fila por cada ciclista, en el mismo orden con que aparecen en ciclistas. Cada fila tiene el tiempo en\n",
        "segundos (un valor flotante) invertido en cada una de las 5 etapas de la carrera. ¿Complicado?\n",
        "\n",
        "> Quizás te ayude este ejemplo de lista ciclistas y de matriz tiempos para 3 corredores.\n",
        "\n",
        "> ciclistas = ['Pere Porcar', 'Joan Beltran', 'Lledó Fabra']\n",
        "\n",
        "> tiempo = [[10092.0 12473.1 13732.3 10232.1 10332.3], [11726.2 11161.2 12272.1 11292.0 12534.0], [4 10193.4 10292.1 11712.9 10133.4 11632.0]]\n",
        "\n",
        "> En el ejemplo, el ciclista Joan Beltran invirtió 11161.2 segundos en la segunda etapa.\n",
        "Se pide:\n",
        "\n",
        "> 1- Una función que reciba la lista y la matriz y devuelva el ganador de la vuelta (aquel cuya suma de tiempos en las 5 etapas es mínima).\n",
        "\n",
        "> 2- Una función que reciba la lista, la matriz y un número de etapa y devuelva el nombre del ganador de la etapa.\n",
        "\n",
        "> 3- Un procedimiento que reciba la lista, la matriz y muestre por pantalla el ganador de cada una de las etapas."
      ],
      "metadata": {
        "id": "7uL9dHGdUlFq"
      }
    },
    {
      "cell_type": "code",
      "source": [
        "#<SOL>\n",
        "\n",
        "#</SOL>"
      ],
      "metadata": {
        "id": "R_jEbmHkUk_x"
      },
      "execution_count": null,
      "outputs": []
    },
    {
      "cell_type": "markdown",
      "source": [
        "> **Ejercicio**: Diseña un programa que lea una lista de 10 enteros, pero asegurándose que todos los números que introduzca el usuario sean positivos. Cuando no lo sean, lo indicaremos con un mensaje y permitiremos al usuario repetir el intento cuantas veces sea necesario."
      ],
      "metadata": {
        "id": "Z5xUDk4trR3g"
      }
    },
    {
      "cell_type": "code",
      "source": [
        "#<SOL>\n",
        "\n",
        "\n",
        "#</SOL>"
      ],
      "metadata": {
        "id": "axjm8kWOrRvK"
      },
      "execution_count": null,
      "outputs": []
    },
    {
      "cell_type": "markdown",
      "source": [
        "> **Ejercicio MÁS DIFÍCIL**: Diseñe un programa que borre todos los elementos de índice par de una lista y muestre el resultado por pantalla."
      ],
      "metadata": {
        "id": "_aMCGjQ9rRnG"
      }
    },
    {
      "cell_type": "code",
      "source": [
        "#<SOL>\n",
        "\n",
        "\n",
        "#</SOL>"
      ],
      "metadata": {
        "id": "VyqR96a5rRfC"
      },
      "execution_count": null,
      "outputs": []
    },
    {
      "cell_type": "markdown",
      "source": [
        "## Diccionarios de Python\n",
        "\n",
        "Un diccionario es una colección de elementos desordenados, modificables e indexados sin entradas duplicadas.\n",
        "\n",
        "Los diccionarios se escriben con llaves `{ }`, y su característica principal radica en que cada elemento tiene una clave para facilitar la indexación de los valores del diccionario. Así, cada elemento del diccionario es un par `{clave:valor}` (`{key:value}`).\n"
      ],
      "metadata": {
        "id": "W4-gAUPPjnty"
      }
    },
    {
      "cell_type": "markdown",
      "source": [
        "### Crear un diccionario\n",
        "En Python, los diccionarios se escriben con llaves y cada entrada debe indicarse con un par clave-valor. Por ejemplo:"
      ],
      "metadata": {
        "id": "FJIpxeyCjuMo"
      }
    },
    {
      "cell_type": "code",
      "source": [
        "mydict = {\n",
        "  \"name\": \"Ana\",\n",
        "  \"surname\": \"García\",\n",
        "  \"age\": 25\n",
        "}\n",
        "print(mydict)"
      ],
      "metadata": {
        "id": "WUBOIi6bjiUp",
        "colab": {
          "base_uri": "https://localhost:8080/"
        },
        "outputId": "a637954e-e070-4dde-e573-ab739a73b6a8"
      },
      "execution_count": null,
      "outputs": [
        {
          "output_type": "stream",
          "name": "stdout",
          "text": [
            "{'name': 'Ana', 'surname': 'García', 'age': 25}\n"
          ]
        }
      ]
    },
    {
      "cell_type": "markdown",
      "source": [
        "Obsérvese el uso de dos puntos `:` para la asignación clave-valor."
      ],
      "metadata": {
        "id": "-2DJtonNj2YR"
      }
    },
    {
      "cell_type": "markdown",
      "source": [
        "De esta forma, podemos crear un diccionario con 3 entradas asociadas a las claves \"nombre\", \"apellido\", \"edad\" y, para cada clave, hemos guardado también su valor asociado.\n",
        "\n",
        "De esta forma, los diccionarios nos permiten crear estructuras muy flexibles donde almacenar información de forma estructurada.\n",
        "\n",
        "Podemos crear un diccionario vacío si no incluimos ningún elemento:"
      ],
      "metadata": {
        "id": "MHp6zGZBj4Js"
      }
    },
    {
      "cell_type": "code",
      "source": [
        "myemptydict = {}\n",
        "print(myemptydict)"
      ],
      "metadata": {
        "id": "uD_-POqRjx6_",
        "colab": {
          "base_uri": "https://localhost:8080/"
        },
        "outputId": "2670a823-1269-4b12-f0f2-ea606da96811"
      },
      "execution_count": null,
      "outputs": [
        {
          "output_type": "stream",
          "name": "stdout",
          "text": [
            "{}\n"
          ]
        }
      ]
    },
    {
      "cell_type": "markdown",
      "source": [
        "O utilizar el constructor `dict()`:\n"
      ],
      "metadata": {
        "id": "xHDNloBaj9-d"
      }
    },
    {
      "cell_type": "code",
      "source": [
        "mydict2 = dict(name = \"Juan\", surname =\"Pérez\", age =30)\n",
        "print(mydict2)"
      ],
      "metadata": {
        "id": "QNrskrctj8Z1",
        "colab": {
          "base_uri": "https://localhost:8080/"
        },
        "outputId": "3aa88319-429d-4b2c-e14d-f54b1cdc69ce"
      },
      "execution_count": null,
      "outputs": [
        {
          "output_type": "stream",
          "name": "stdout",
          "text": [
            "{'name': 'Juan', 'surname': 'Pérez', 'age': 30}\n"
          ]
        }
      ]
    },
    {
      "cell_type": "markdown",
      "source": [
        "Tenga en cuenta que ahora las claves no se proporcionan como literales de cadena y que utilizamos el signo `=`   en lugar de `:` para la asignación clave-valor."
      ],
      "metadata": {
        "id": "JS1-XGrCkChP"
      }
    },
    {
      "cell_type": "markdown",
      "source": [
        "### Acceso a las claves y valores\n",
        "\n",
        "Una vez creado el diccionario, podemos acceder a un valor concreto a través de su clave:"
      ],
      "metadata": {
        "id": "tzx8qE-2kGtJ"
      }
    },
    {
      "cell_type": "code",
      "source": [
        "mydict[\"name\"]"
      ],
      "metadata": {
        "id": "xMOUFwcTj_91",
        "colab": {
          "base_uri": "https://localhost:8080/",
          "height": 35
        },
        "outputId": "7a812915-6cb6-4d27-8953-ebb04cb037cd"
      },
      "execution_count": null,
      "outputs": [
        {
          "output_type": "execute_result",
          "data": {
            "text/plain": [
              "'Ana'"
            ],
            "application/vnd.google.colaboratory.intrinsic+json": {
              "type": "string"
            }
          },
          "metadata": {},
          "execution_count": 5
        }
      ]
    },
    {
      "cell_type": "markdown",
      "source": [
        "Observe que para acceder al elemento, llamamos al diccionario indicando la clave asociada al valor deseado entre corchetes.\n",
        "\n",
        "Los diccionarios también tienen un método `.get()` que proporcionará el mismo resultado:"
      ],
      "metadata": {
        "id": "U8img7-kkMSM"
      }
    },
    {
      "cell_type": "code",
      "source": [
        "mydict.get(\"name\")"
      ],
      "metadata": {
        "id": "8eIRXTL3kJ8H",
        "colab": {
          "base_uri": "https://localhost:8080/",
          "height": 35
        },
        "outputId": "e40bd5c3-c8e4-4bbd-a5b9-2b3437e46e43"
      },
      "execution_count": null,
      "outputs": [
        {
          "output_type": "execute_result",
          "data": {
            "text/plain": [
              "'Ana'"
            ],
            "application/vnd.google.colaboratory.intrinsic+json": {
              "type": "string"
            }
          },
          "metadata": {},
          "execution_count": 6
        }
      ]
    },
    {
      "cell_type": "markdown",
      "source": [
        "Podemos cambiar el valor de una entrada específica accediendo con su clave:"
      ],
      "metadata": {
        "id": "QScvCrZskSAE"
      }
    },
    {
      "cell_type": "code",
      "source": [
        "mydict[\"name\"]='Marta'\n",
        "mydict.get(\"name\")"
      ],
      "metadata": {
        "id": "EV6v6iJPkPp-",
        "colab": {
          "base_uri": "https://localhost:8080/",
          "height": 35
        },
        "outputId": "3614fa5e-3402-4fc4-928b-6455a407cc6b"
      },
      "execution_count": null,
      "outputs": [
        {
          "output_type": "execute_result",
          "data": {
            "text/plain": [
              "'Marta'"
            ],
            "application/vnd.google.colaboratory.intrinsic+json": {
              "type": "string"
            }
          },
          "metadata": {},
          "execution_count": 7
        }
      ]
    },
    {
      "cell_type": "markdown",
      "source": [
        "Obsérvese el uso de `=` en lugar de `:` para la asignación"
      ],
      "metadata": {
        "id": "JZRjnRe0kYlw"
      }
    },
    {
      "cell_type": "markdown",
      "source": [
        "Si intentamos acceder a una clave que no existe, obtenemos un error"
      ],
      "metadata": {
        "id": "hTn7Agtgkdj9"
      }
    },
    {
      "cell_type": "code",
      "source": [
        "mydict[\"status\"]"
      ],
      "metadata": {
        "id": "nc-PyzqdkUjO",
        "colab": {
          "base_uri": "https://localhost:8080/",
          "height": 167
        },
        "outputId": "1ffacac1-69a9-46a7-9894-28d990f62d93"
      },
      "execution_count": null,
      "outputs": [
        {
          "output_type": "error",
          "ename": "KeyError",
          "evalue": "ignored",
          "traceback": [
            "\u001b[0;31m---------------------------------------------------------------------------\u001b[0m",
            "\u001b[0;31mKeyError\u001b[0m                                  Traceback (most recent call last)",
            "\u001b[0;32m<ipython-input-8-77a7060e4a5a>\u001b[0m in \u001b[0;36m<module>\u001b[0;34m\u001b[0m\n\u001b[0;32m----> 1\u001b[0;31m \u001b[0mmydict\u001b[0m\u001b[0;34m[\u001b[0m\u001b[0;34m\"status\"\u001b[0m\u001b[0;34m]\u001b[0m\u001b[0;34m\u001b[0m\u001b[0;34m\u001b[0m\u001b[0m\n\u001b[0m",
            "\u001b[0;31mKeyError\u001b[0m: 'status'"
          ]
        }
      ]
    },
    {
      "cell_type": "markdown",
      "source": [
        "Podemos evitar este error, utilizando la función get"
      ],
      "metadata": {
        "id": "hzjIYhQBkifg"
      }
    },
    {
      "cell_type": "code",
      "source": [
        "if mydict.get(\"status\") is not None:\n",
        "  print(mydict[\"status\"])"
      ],
      "metadata": {
        "id": "JL_wmJHEkgUH"
      },
      "execution_count": null,
      "outputs": []
    },
    {
      "cell_type": "markdown",
      "source": [
        "Si necesitamos acceder a todos los pares clave-valor, puede utilizar el método `.items()`"
      ],
      "metadata": {
        "id": "ImYRx5pSkoRi"
      }
    },
    {
      "cell_type": "code",
      "source": [
        "mydict.items()"
      ],
      "metadata": {
        "id": "jugEcHpWklQ-"
      },
      "execution_count": null,
      "outputs": []
    },
    {
      "cell_type": "markdown",
      "source": [
        "Tenga en cuenta que este método devuelve una lista de todos los pares clave-valor, donde cada par se devuelve como una tupla."
      ],
      "metadata": {
        "id": "TsmU0K1akxNF"
      }
    },
    {
      "cell_type": "markdown",
      "source": [
        "También podemos acceder de forma independiente a todas las claves o a todos los valores utilizando los métodos `.keys()` o `.values()`, respectivamente."
      ],
      "metadata": {
        "id": "ZEd9-Gq-kzyh"
      }
    },
    {
      "cell_type": "code",
      "source": [
        "mydict.keys()"
      ],
      "metadata": {
        "id": "raXcJiNwkuim"
      },
      "execution_count": null,
      "outputs": []
    },
    {
      "cell_type": "code",
      "source": [
        "mydict.values()"
      ],
      "metadata": {
        "id": "RaC33TcRk-7G"
      },
      "execution_count": null,
      "outputs": []
    },
    {
      "cell_type": "markdown",
      "source": [
        "Se puede iterar sobre los elementos de un diccionario utilizando un bucle `for`. Para ello, solo hay que tener en cuenta que los elementos devueltos son las claves del diccionario:\n"
      ],
      "metadata": {
        "id": "te6Gs3vnlGn0"
      }
    },
    {
      "cell_type": "code",
      "source": [
        "for key in mydict:\n",
        "  print(key)"
      ],
      "metadata": {
        "id": "ijKvm51rlAgY"
      },
      "execution_count": null,
      "outputs": []
    },
    {
      "cell_type": "markdown",
      "source": [
        "Podemos usar las claves para devolver los valores"
      ],
      "metadata": {
        "id": "VIWxP_LalQnm"
      }
    },
    {
      "cell_type": "code",
      "source": [
        "for key in mydict:\n",
        "  print(mydict[key])"
      ],
      "metadata": {
        "id": "wlbrEKoVlL0Q"
      },
      "execution_count": null,
      "outputs": []
    },
    {
      "cell_type": "markdown",
      "source": [
        "Pero podemos utilizar los métodos `.items` o `.values` para iterar sobre otros elementos"
      ],
      "metadata": {
        "id": "J7px0KtHlbsv"
      }
    },
    {
      "cell_type": "code",
      "source": [
        "for value in mydict.values():\n",
        "  print(value)"
      ],
      "metadata": {
        "id": "zDsk7dLOlQTi"
      },
      "execution_count": null,
      "outputs": []
    },
    {
      "cell_type": "code",
      "source": [
        "for key, value in mydict.items():\n",
        "  print(key, value)"
      ],
      "metadata": {
        "id": "xSrFhz_zldjY"
      },
      "execution_count": null,
      "outputs": []
    },
    {
      "cell_type": "markdown",
      "source": [
        "### Añadir y eliminar elementos\n",
        "\n",
        "Para añadir una nueva entrada (clave-valor) a un diccionario, podemos simplemente utilizar una nueva clave y asignarle un valor:\n",
        "\n"
      ],
      "metadata": {
        "id": "7Uje4yOLlqft"
      }
    },
    {
      "cell_type": "code",
      "source": [
        "mydict[\"status\"] = 'single'\n",
        "print(mydict)"
      ],
      "metadata": {
        "id": "-fXbAhXUlhVJ"
      },
      "execution_count": null,
      "outputs": []
    },
    {
      "cell_type": "markdown",
      "source": [
        "O podemos utilizar el método `.update()`:"
      ],
      "metadata": {
        "id": "41AS_c7nlxWX"
      }
    },
    {
      "cell_type": "code",
      "source": [
        "mydict.update({\"job\":'teacher'})\n",
        "print(mydict)"
      ],
      "metadata": {
        "id": "UjY_LCJHls7M"
      },
      "execution_count": null,
      "outputs": []
    },
    {
      "cell_type": "markdown",
      "source": [
        "Aunque, en general, este método actualiza el diccionario con elementos de otro diccionario. En caso de que el otro diccionario tenga nuevos valores clave, éstos se añaden como nuevos elementos; en caso contrario, se actualizan los valores asociados. Por ejemplo:"
      ],
      "metadata": {
        "id": "kYtRIEYil3-n"
      }
    },
    {
      "cell_type": "code",
      "source": [
        "mydict2 = {1: \"one\", 2: \"three\"}\n",
        "dictnew = {2: \"two\", 3: \"three\"}\n",
        "\n",
        "mydict2.update(dictnew)\n",
        "print(mydict2)"
      ],
      "metadata": {
        "id": "2BJB9Yefly64"
      },
      "execution_count": null,
      "outputs": []
    },
    {
      "cell_type": "markdown",
      "source": [
        "Para eliminar elementos de un diccionario, podemos utilizar los siguientes métodos:\n",
        "* `.pop()` o `del` (esta última es una función de Python): eliminan el elemento asociado a una clave determinada.\n",
        "\n",
        "* `.popitem()`: elimina el último elemento insertado."
      ],
      "metadata": {
        "id": "Jsiqa5vDmAMh"
      }
    },
    {
      "cell_type": "code",
      "source": [
        "print(mydict)\n",
        "mydict.popitem()\n",
        "print(mydict)"
      ],
      "metadata": {
        "id": "9_B1fxuCl6Wo"
      },
      "execution_count": null,
      "outputs": []
    },
    {
      "cell_type": "code",
      "source": [
        "mydict.pop(\"age\")\n",
        "print(mydict)"
      ],
      "metadata": {
        "id": "TxLD4hZQmCfg"
      },
      "execution_count": null,
      "outputs": []
    },
    {
      "cell_type": "code",
      "source": [
        "del mydict[\"name\"]\n",
        "print(mydict)"
      ],
      "metadata": {
        "id": "9US2qoTUmHYg"
      },
      "execution_count": null,
      "outputs": []
    },
    {
      "cell_type": "markdown",
      "source": [
        "O incluso podemos utilizar `del` para eliminar el diccionario completo"
      ],
      "metadata": {
        "id": "SCyqAmNumM41"
      }
    },
    {
      "cell_type": "code",
      "source": [
        "del mydict\n",
        "print(mydict)"
      ],
      "metadata": {
        "id": "puDQaAlCmJ-9"
      },
      "execution_count": null,
      "outputs": []
    },
    {
      "cell_type": "markdown",
      "source": [
        "Si sólo queremos eliminar los elementos del diccionario, sin borrar la variable, podemos utilizar el método `.clear`:"
      ],
      "metadata": {
        "id": "0GNgN4cpmQ1l"
      }
    },
    {
      "cell_type": "code",
      "source": [
        "mydict = {\n",
        "  \"name\": \"Ana\",\n",
        "  \"surname\": \"García\",\n",
        "  \"age\": 25\n",
        "}\n",
        "print(mydict)"
      ],
      "metadata": {
        "id": "OcBu51SCmOpS"
      },
      "execution_count": null,
      "outputs": []
    },
    {
      "cell_type": "code",
      "source": [
        "mydict.clear()\n",
        "print(mydict)"
      ],
      "metadata": {
        "id": "Rb7hLBUtmTsb"
      },
      "execution_count": null,
      "outputs": []
    },
    {
      "cell_type": "markdown",
      "source": [
        "### Ejercicios con Diccionarios\n",
        "\n",
        "> **Ejercicio**: Vamos a crear un diccionario con la información de tus compañeros de clase, utilizando el nombre como clave y sus estudios (titulación) como valores. Para este ejercicio, es suficiente con que incluyas los datos de 5 o 6 compañeros."
      ],
      "metadata": {
        "id": "hS2X2fhJoUJW"
      }
    },
    {
      "cell_type": "code",
      "source": [
        "#<SOL>\n",
        "alumnos = {'Cristina':'Profesora', 'Noelia':'Protesico dental', 'Nerea':'Farmacia', 'Anabel':'Aux enfermería', 'Patricia':'Aux enfermería'}\n",
        "print(alumnos)\n",
        "#</SOL>"
      ],
      "metadata": {
        "id": "WPKfrNVpoUJW"
      },
      "execution_count": null,
      "outputs": []
    },
    {
      "cell_type": "markdown",
      "source": [
        "Ahora resuelve los siguientes ejercicios o preguntas:\n",
        "* ¿Qué titulación ha estudiado Cristina?\n",
        "* Actualiza el diccionario con información de otro compañero\n",
        "* Crea una lista con los nombres de todos los compañeros de clase que están en tu diccionario\n",
        "* ¿Cuánta gente ha estudiado `Aux enfermería`?"
      ],
      "metadata": {
        "id": "UjNwkQEloUJX"
      }
    },
    {
      "cell_type": "code",
      "source": [
        "#<SOL>\n",
        "alumnos['Cristina']\n",
        "#</SOL>"
      ],
      "metadata": {
        "id": "u03XZOXXoUJX"
      },
      "execution_count": null,
      "outputs": []
    },
    {
      "cell_type": "code",
      "source": [
        "#<SOL>\n",
        "alumnos['Alberto'] = 'Economía'\n",
        "print(alumnos)\n",
        "#</SOL>"
      ],
      "metadata": {
        "id": "YGBvaHshoUJX"
      },
      "execution_count": null,
      "outputs": []
    },
    {
      "cell_type": "code",
      "source": [
        "#<SOL>\n",
        "list(alumnos.keys())\n",
        "#</SOL>"
      ],
      "metadata": {
        "id": "L80r0N0EoUJX"
      },
      "execution_count": null,
      "outputs": []
    },
    {
      "cell_type": "code",
      "source": [
        "#<SOL>\n",
        "contador = 0\n",
        "for val in alumnos.values():\n",
        "  if val == 'Aux enfermería':\n",
        "    contador += 1\n",
        "\n",
        "print(contador)\n",
        "\n",
        "#</SOL>"
      ],
      "metadata": {
        "id": "bsD1scoUoUJY"
      },
      "execution_count": null,
      "outputs": []
    },
    {
      "cell_type": "markdown",
      "source": [
        "> **Ejercicio**: Construyamos un programa que gestione un listín telefónico que permita asociar a una persona más de un teléfono. A través de un menú podremos seleccionar diferentes acciones:\n",
        "añadir teléfonos al listín, consultar el listín y eliminar teléfonos del listín.\n",
        "Mantendremos la agenda en una variable global listín. Esa variable será un diccionario cuyas claves son los nombres de las personas y cuyos valores son listas de cadenas, así podremos guardar más de un teléfono por persona (cada cadena de la lista será un teléfono).\n",
        "Las diferentes acciones se implementarán mediante funciones. El programa principal repetirá el proceso de mostrar un menú, leer la opción, leer los datos necesarios para ejecutar la acción y llamar a la función correspondiente.\n",
        "Ten en cuenta que asociar un teléfono a un nombre no consiste en asignar algo directamente a la clave correspondiente en listín: debes preguntar previamente si ya hay teléfonos asociados a ese nombre y, en tal caso, añadir a la lista de teléfonos el nuevo; si no existe el nombre, entonces sí asignaremos algo a la clave, pero ese algo será una lista con el teléfono.\n",
        "\n",
        ">A continuación encontráis parte del código hecho, solo para completar las 3 funciones. Ten en cuenta que listín en un diccionario y tanto nombre como teléfono son cadenas de caracteres (strings)."
      ],
      "metadata": {
        "id": "ION4a3J7-uWA"
      }
    },
    {
      "cell_type": "code",
      "source": [
        "def añadir(listin, nombre, telefono):\n",
        "  #<SOL>\n",
        "  if nombre in listin:\n",
        "    if not telefono in listin[nombre]:\n",
        "      listin[nombre].append(telefono)\n",
        "  else:\n",
        "    listin[nombre] = [telefono]\n",
        "  #</SOL>\n",
        "\n",
        "\n",
        "def consultar(listin, nombre):\n",
        "  #<SOL>\n",
        "  if nombre in listin:\n",
        "    return listin[nombre]\n",
        "  else:\n",
        "    return []\n",
        "  #</SOL>\n",
        "\n",
        "def eliminar(listin, nombre):\n",
        "  #<SOL>\n",
        "  if nombre in listin:\n",
        "    del listin[nombre]\n",
        "  #</SOL>\n",
        "\n",
        "def menu():\n",
        "  opcion = 0\n",
        "  while opcion < 1 or opcion > 4:\n",
        "    print('1) Añadir teléfonos')\n",
        "    print('2) Consultar listín')\n",
        "    print('3) Eliminar persona del listín')\n",
        "    print('4) Salir')\n",
        "    opcion = int(input('Escoge opción: '))\n",
        "    return opcion\n",
        "\n",
        "# Programa principal\n",
        "listin = {}\n",
        "opcion = 0\n",
        "\n",
        "while opcion != 4:\n",
        "  opcion = menu()\n",
        "  if opcion == 1:\n",
        "    nombre = input('Nombre: ')\n",
        "    telefono = input('Teléfono: ')\n",
        "    añadir(listin, nombre, telefono)\n",
        "    mas = input('Deseas añadir otro teléfono a {0}? (s/n): '.format(nombre))\n",
        "    while mas == 's':\n",
        "      telefono = input('Teléfono: ')\n",
        "      añadir(listin, nombre, telefono)\n",
        "      mas = input('Deseas añadir otro teléfono a {0}? (s/n): '.format(nombre))\n",
        "  elif opcion == 2:\n",
        "    nombre = input('Nombre: ')\n",
        "    telefonos = consultar(listin, nombre)\n",
        "    for telefono in telefonos:\n",
        "      print(telefono)\n",
        "  elif opcion == 3:\n",
        "    nombre = input('Nombre: ')\n",
        "    eliminar(listin, nombre)\n"
      ],
      "metadata": {
        "id": "L6xgxoJ8-upe",
        "colab": {
          "base_uri": "https://localhost:8080/"
        },
        "outputId": "1f891a03-2d23-4400-f024-96685683f83c"
      },
      "execution_count": null,
      "outputs": [
        {
          "name": "stdout",
          "output_type": "stream",
          "text": [
            "1) Añadir teléfonos\n",
            "2) Consultar listín\n",
            "3) Eliminar persona del listín\n",
            "4) Salir\n",
            "Escoge opción: 1\n",
            "Nombre: aurora\n",
            "Teléfono: 1234566\n",
            "Deseas añadir otro teléfono a aurora? (s/n): s\n",
            "Teléfono: 543111\n",
            "Deseas añadir otro teléfono a aurora? (s/n): n\n",
            "1) Añadir teléfonos\n",
            "2) Consultar listín\n",
            "3) Eliminar persona del listín\n",
            "4) Salir\n",
            "Escoge opción: 1\n",
            "Nombre: pedro\n",
            "Teléfono: 555555\n",
            "Deseas añadir otro teléfono a pedro? (s/n): n\n",
            "1) Añadir teléfonos\n",
            "2) Consultar listín\n",
            "3) Eliminar persona del listín\n",
            "4) Salir\n",
            "Escoge opción: 2\n",
            "Nombre: aurora\n",
            "1234566\n",
            "543111\n",
            "1) Añadir teléfonos\n",
            "2) Consultar listín\n",
            "3) Eliminar persona del listín\n",
            "4) Salir\n",
            "Escoge opción: 2\n",
            "Nombre: Pedro\n",
            "1) Añadir teléfonos\n",
            "2) Consultar listín\n",
            "3) Eliminar persona del listín\n",
            "4) Salir\n",
            "Escoge opción: 3\n",
            "Nombre: aurora\n",
            "1) Añadir teléfonos\n",
            "2) Consultar listín\n",
            "3) Eliminar persona del listín\n",
            "4) Salir\n",
            "Escoge opción: 2\n",
            "Nombre: aurora\n",
            "1) Añadir teléfonos\n",
            "2) Consultar listín\n",
            "3) Eliminar persona del listín\n",
            "4) Salir\n",
            "Escoge opción: 4\n"
          ]
        }
      ]
    },
    {
      "cell_type": "markdown",
      "source": [
        "> **Ejercicio**: Siguiendo el programa anterior, diseña un procedimiento que muestre el contenido completo del listín, pero ordenado alfabéticamente. (Puedes usar el método sort sobre una lista para ordenarla)."
      ],
      "metadata": {
        "id": "5haBHiLq-vm2"
      }
    },
    {
      "cell_type": "code",
      "source": [
        "#<SOL>\n",
        "listin\n",
        "#</SOL>"
      ],
      "metadata": {
        "id": "NrE1xLVU-ve8",
        "colab": {
          "base_uri": "https://localhost:8080/"
        },
        "outputId": "77ad3e2b-3cc6-40c2-b0b1-e8544e0caba7"
      },
      "execution_count": null,
      "outputs": [
        {
          "output_type": "execute_result",
          "data": {
            "text/plain": [
              "{'pedro': ['555555']}"
            ]
          },
          "metadata": {},
          "execution_count": 2
        }
      ]
    },
    {
      "cell_type": "markdown",
      "source": [
        "## Estructuras anidadas\n",
        "\n",
        "En Python podemos crear estructuras anidadas. Por ejemplo, podemos crear:\n",
        "\n",
        "**Diccionarios anidados**: Es un diccionario que contiene muchos diccionarios.\n",
        "\n",
        "**Lista de diccionarios**: Es una lista donde cada elemento es un diccionario. En estas estructuras es bastante común que todos los diccionarios tengan las mismas claves, aunque esto no es obligatorio.  "
      ],
      "metadata": {
        "id": "Ede5fsp_mYmx"
      }
    },
    {
      "cell_type": "markdown",
      "source": [
        "Ejemplo de diccionario anidado:"
      ],
      "metadata": {
        "id": "B366UwkwmlNY"
      }
    },
    {
      "cell_type": "code",
      "source": [
        "\n",
        "children = {\n",
        "  \"child1\" : {\n",
        "    \"name\" : \"Alex\",\n",
        "    \"age\" : 4\n",
        "  },\n",
        "  \"child2\" : {\n",
        "    \"name\" : \"Eva\",\n",
        "    \"age\" : 7\n",
        "  },\n",
        "  \"child3\" : {\n",
        "    \"name\" : \"Daniel\",\n",
        "    \"age\" : 11\n",
        "  }\n",
        "}\n",
        "print(children)"
      ],
      "metadata": {
        "id": "IIZD_VjxmVKB"
      },
      "execution_count": null,
      "outputs": []
    },
    {
      "cell_type": "markdown",
      "source": [
        "Ejemplo de lista de diccionarios"
      ],
      "metadata": {
        "id": "-DOVdrq_mroo"
      }
    },
    {
      "cell_type": "code",
      "source": [
        "children = [{\n",
        "    \"name\" : \"Alex\",\n",
        "    \"age\" : 4\n",
        "  }, {\n",
        "    \"name\" : \"Eva\",\n",
        "    \"age\" : 7\n",
        "  }, {\n",
        "    \"name\" : \"Daniel\",\n",
        "    \"age\" : 11\n",
        "  }]\n",
        "print(children)"
      ],
      "metadata": {
        "id": "SB_pCNaEmkGb"
      },
      "execution_count": null,
      "outputs": []
    },
    {
      "cell_type": "markdown",
      "source": [
        "# EXTRA! Comprensión de listas (List Comprehension)\n",
        "\n",
        "La comprensión de listas es una forma elegante de crear listas en Python a partir de listas (o iteradores) existentes.\n",
        "\n",
        "Para definir una nueva lista en Python usando la comprensión de listas definiremos una expresión entre corchetes, pero en lugar de la lista de elementos dentro de ella, definiremos una expresión seguida de un bucle `for`:\n",
        "\n",
        "`nueva_lista = [(operación sobre elemento) for elemento in iterador]`\n",
        "\n",
        "Esta expresión permite tomar elementos de nuestro iterador (que puede ser otra lista), aplicar una operación sobre ellos, y generar los nuevos elementos que se añaden automáticamente en `nueva_lista`.\n",
        "\n",
        "Esta sintaxis hace que esta nueva forma de definir listas sea más compacta y rápida que la definición normal.\n",
        "\n",
        "Veamos cómo funciona esto con algunos ejemplos:"
      ],
      "metadata": {
        "id": "9GqLns5knutD"
      }
    },
    {
      "cell_type": "markdown",
      "source": [
        "**Ejemplo 1**: Vamos a crear una lista con los caracteres de la frase \"¡Hello world!\""
      ],
      "metadata": {
        "id": "0GPsBMV_n83H"
      }
    },
    {
      "cell_type": "code",
      "source": [
        "# Standard solution\n",
        "sentence = \"Hello world!\"\n",
        "mylist= []\n",
        "for char in sentence:\n",
        "  mylist.append(char)\n",
        "\n",
        "print(mylist)"
      ],
      "metadata": {
        "id": "7xRuDASXnRkz",
        "colab": {
          "base_uri": "https://localhost:8080/"
        },
        "outputId": "13dd804d-81b3-434d-c20a-5741bfbf9551"
      },
      "execution_count": null,
      "outputs": [
        {
          "output_type": "stream",
          "name": "stdout",
          "text": [
            "['H', 'e', 'l', 'l', 'o', ' ', 'w', 'o', 'r', 'l', 'd', '!']\n"
          ]
        }
      ]
    },
    {
      "cell_type": "code",
      "source": [
        "# List comprehension\n",
        "sentence = \"Hello world!\"\n",
        "mylist2 = [char for char in sentence]\n",
        "print(mylist2)"
      ],
      "metadata": {
        "id": "Al76kBzqn7oW",
        "colab": {
          "base_uri": "https://localhost:8080/"
        },
        "outputId": "b2d33b8b-501b-4ca8-a16a-b5533be53547"
      },
      "execution_count": null,
      "outputs": [
        {
          "output_type": "stream",
          "name": "stdout",
          "text": [
            "['H', 'e', 'l', 'l', 'o', ' ', 'w', 'o', 'r', 'l', 'd', '!']\n"
          ]
        }
      ]
    },
    {
      "cell_type": "markdown",
      "source": [
        "**Ejemplo 2**: Calculemos el cuadrado del número de 0 a 10"
      ],
      "metadata": {
        "id": "rCLLLYi-oFZJ"
      }
    },
    {
      "cell_type": "code",
      "source": [
        "# Standard solution\n",
        "mylist= []\n",
        "for num in range(11):\n",
        "  mylist.append(num**2)\n",
        "\n",
        "print(mylist)"
      ],
      "metadata": {
        "id": "YDEy_IDfoA5G",
        "colab": {
          "base_uri": "https://localhost:8080/"
        },
        "outputId": "28cfeb97-ec5c-4078-c219-bc4711d2fd88"
      },
      "execution_count": null,
      "outputs": [
        {
          "output_type": "stream",
          "name": "stdout",
          "text": [
            "[0, 1, 4, 9, 16, 25, 36, 49, 64, 81, 100]\n"
          ]
        }
      ]
    },
    {
      "cell_type": "code",
      "source": [
        "# List comprehension\n",
        "mylist2 = [num**2 for num in range(11)]\n",
        "print(mylist2)"
      ],
      "metadata": {
        "id": "OYfUlfqWoHIF",
        "colab": {
          "base_uri": "https://localhost:8080/"
        },
        "outputId": "0096f2b2-1f77-43a3-a290-8b15171a57a5"
      },
      "execution_count": null,
      "outputs": [
        {
          "output_type": "stream",
          "name": "stdout",
          "text": [
            "[0, 1, 4, 9, 16, 25, 36, 49, 64, 81, 100]\n"
          ]
        }
      ]
    },
    {
      "cell_type": "markdown",
      "source": [
        "#### If...else con la comprensión de listas\n",
        "\n",
        "La comprensión de listas también nos permite incluir declaraciones `if... else...` en su definición.\n",
        "\n",
        "Por ejemplo, en el Ejemplo 2, podemos calcular el cuadrado de sólo los números impares entre 0 y 10."
      ],
      "metadata": {
        "id": "6wVcktKJoMUp"
      }
    },
    {
      "cell_type": "code",
      "source": [
        "# Standard solution\n",
        "mylist= []\n",
        "for num in range(11):\n",
        "  if (num % 2) != 0:\n",
        "    mylist.append(num**2)\n",
        "\n",
        "print(mylist)"
      ],
      "metadata": {
        "id": "v8ob4sGmoJhG",
        "colab": {
          "base_uri": "https://localhost:8080/"
        },
        "outputId": "d4ecaf31-b387-4222-ac13-17b3d0c9fe40"
      },
      "execution_count": null,
      "outputs": [
        {
          "output_type": "stream",
          "name": "stdout",
          "text": [
            "[1, 9, 25, 49, 81]\n"
          ]
        }
      ]
    },
    {
      "cell_type": "code",
      "source": [
        "# List comprehension\n",
        "mylist2 = [num**2 for num in range(11) if (num % 2) != 0]\n",
        "print(mylist2)"
      ],
      "metadata": {
        "id": "wMB0y9_goRDa",
        "colab": {
          "base_uri": "https://localhost:8080/"
        },
        "outputId": "ba615859-0496-4152-e786-33dab4bad7b6"
      },
      "execution_count": null,
      "outputs": [
        {
          "output_type": "stream",
          "name": "stdout",
          "text": [
            "[1, 9, 25, 49, 81]\n"
          ]
        }
      ]
    },
    {
      "cell_type": "markdown",
      "source": [
        "O podemos calcular el cuadrado de los números impares y el cubo de los pares."
      ],
      "metadata": {
        "id": "qbSXL6G2oXn2"
      }
    },
    {
      "cell_type": "code",
      "source": [
        "# Standard solution\n",
        "mylist= []\n",
        "for num in range(11):\n",
        "  if (num % 2) != 0:\n",
        "    mylist.append(num**2)\n",
        "  else:\n",
        "    mylist.append(num**3)\n",
        "print(mylist)"
      ],
      "metadata": {
        "id": "zJNw-bssoSXu",
        "colab": {
          "base_uri": "https://localhost:8080/"
        },
        "outputId": "de36cd25-6f91-4e6e-d138-948c24233e30"
      },
      "execution_count": null,
      "outputs": [
        {
          "output_type": "stream",
          "name": "stdout",
          "text": [
            "[0, 1, 8, 9, 64, 25, 216, 49, 512, 81, 1000]\n"
          ]
        }
      ]
    },
    {
      "cell_type": "code",
      "source": [
        "# List comprehension\n",
        "mylist2 = [num**2 if (num % 2) != 0 else num**3 for num in range(11)]\n",
        "print(mylist2)"
      ],
      "metadata": {
        "id": "r0SskknOoZNl",
        "colab": {
          "base_uri": "https://localhost:8080/"
        },
        "outputId": "cfea1850-a0ad-4f57-e554-a77baba17f86"
      },
      "execution_count": null,
      "outputs": [
        {
          "output_type": "stream",
          "name": "stdout",
          "text": [
            "[0, 1, 8, 9, 64, 25, 216, 49, 512, 81, 1000]\n"
          ]
        }
      ]
    },
    {
      "cell_type": "markdown",
      "source": [
        "#### Comprensión de diccionarios / Dictionary Comprehension\n",
        "\n",
        "Podemos crear un diccionario con el uso de una sintaxis similar utilizando llaves en lugar de corchetes e indicando los pares `clave:valor` en lugar de los elementos de la lista."
      ],
      "metadata": {
        "id": "B9QMr4Ewogvl"
      }
    },
    {
      "cell_type": "markdown",
      "source": [
        "**Ejemplo 3**: Vamos a calcular un diccionario con pares `{número: número**2}` donde el número es la clave y el valor su cuadrado."
      ],
      "metadata": {
        "id": "m6IhsFDYokbb"
      }
    },
    {
      "cell_type": "code",
      "source": [
        "# Dict comprehension\n",
        "mydict = {num:num**2 for num in range(11)}\n",
        "print(mydict)"
      ],
      "metadata": {
        "id": "XhYSv2vhoadk",
        "colab": {
          "base_uri": "https://localhost:8080/"
        },
        "outputId": "d8a8b05c-19ce-475e-f9e7-a5a1cd357db7"
      },
      "execution_count": null,
      "outputs": [
        {
          "output_type": "stream",
          "name": "stdout",
          "text": [
            "{0: 0, 1: 1, 2: 4, 3: 9, 4: 16, 5: 25, 6: 36, 7: 49, 8: 64, 9: 81, 10: 100}\n"
          ]
        }
      ]
    },
    {
      "cell_type": "code",
      "source": [
        "mydict[6]"
      ],
      "metadata": {
        "id": "g2h-zZ9DoqDX",
        "colab": {
          "base_uri": "https://localhost:8080/"
        },
        "outputId": "1667e694-be99-4c53-fda9-c9e514951c0e"
      },
      "execution_count": null,
      "outputs": [
        {
          "output_type": "execute_result",
          "data": {
            "text/plain": [
              "36"
            ]
          },
          "metadata": {},
          "execution_count": 56
        }
      ]
    },
    {
      "cell_type": "markdown",
      "source": [
        "**Ejercicio**: Usa la técnica de listas comprimidas para crear una lista con la tabla de multiplicar del número 3: [3, 6, 9, .... 30]. no vale ponerlo a mano! Pista: Genera números del 1 al 10 y multiplicalos por 3. Tiene que caberte todo en una sola línea."
      ],
      "metadata": {
        "id": "HYGdG_VPf54f"
      }
    },
    {
      "cell_type": "code",
      "source": [
        "#<SOL>\n",
        "tablaDel3 =\n",
        "#</SOL>\n",
        "print(tablaDel3)\n"
      ],
      "metadata": {
        "id": "HGD22W1xf4wO"
      },
      "execution_count": null,
      "outputs": []
    },
    {
      "cell_type": "markdown",
      "source": [
        "## ¿Por qué listas o diccionarios comprimidos?\n",
        "\n",
        "Este tipo de sintáxis no solo nos permite ahorrar líneas de código, sino que además es más eficiente computacionalmente hablando. Veámoslo con un ejemplo..."
      ],
      "metadata": {
        "id": "Y2Xer_q6otXk"
      }
    },
    {
      "cell_type": "code",
      "source": [
        "import time\n",
        "MILLION_NUMBERS = list(range(1000000))\n",
        "\n",
        "output = []\n",
        "start_time = time.time()\n",
        "for element in MILLION_NUMBERS:\n",
        "    if not element % 2:\n",
        "        output.append(element)\n",
        "elapsed_time = time.time() - start_time\n",
        "print(elapsed_time)"
      ],
      "metadata": {
        "id": "sC_ywYgVos0u",
        "colab": {
          "base_uri": "https://localhost:8080/"
        },
        "outputId": "f45ab776-f197-4003-f051-ab427534ca70"
      },
      "execution_count": null,
      "outputs": [
        {
          "output_type": "stream",
          "name": "stdout",
          "text": [
            "0.11308765411376953\n"
          ]
        }
      ]
    },
    {
      "cell_type": "code",
      "source": [
        "start_time = time.time()\n",
        "output = [number for number in MILLION_NUMBERS if not number % 2]\n",
        "elapsed_time = time.time() - start_time\n",
        "print(elapsed_time)"
      ],
      "metadata": {
        "id": "VZ2aaMzVoxz1",
        "colab": {
          "base_uri": "https://localhost:8080/"
        },
        "outputId": "625ed27c-555c-41fc-ad55-ddea744149ab"
      },
      "execution_count": null,
      "outputs": [
        {
          "output_type": "stream",
          "name": "stdout",
          "text": [
            "0.06656265258789062\n"
          ]
        }
      ]
    },
    {
      "cell_type": "markdown",
      "source": [
        "Exacto!! El tiempo de ejecución se reduce con listas comprimidas!! :)"
      ],
      "metadata": {
        "id": "A-k7AIgAhBUM"
      }
    },
    {
      "cell_type": "markdown",
      "source": [
        "# Guardar/cargar estructuras\n",
        "\n",
        "El módulo pickle permite guardar y cargar estructuras de datos en python sin tener que escribirlas enteras cada vez que quieras utilizarlas."
      ],
      "metadata": {
        "id": "gfowcVCl0vBf"
      }
    },
    {
      "cell_type": "code",
      "source": [
        "import pickle\n",
        "\n",
        "lista_guardar = [1, 2, 3, 4]\n",
        "\n",
        "pickle.dump(lista_guardar, open('mifichero', 'wb'))"
      ],
      "metadata": {
        "id": "6cNov1ag1HH-"
      },
      "execution_count": null,
      "outputs": []
    },
    {
      "cell_type": "code",
      "source": [
        "lista_leer = pickle.load(open('mifichero', 'rb'))\n",
        "print(lista_leer)"
      ],
      "metadata": {
        "id": "bnqEckhM2JGV",
        "colab": {
          "base_uri": "https://localhost:8080/"
        },
        "outputId": "123d93cc-de3f-4ae9-a08a-214de65ca3d8"
      },
      "execution_count": null,
      "outputs": [
        {
          "output_type": "stream",
          "name": "stdout",
          "text": [
            "[1, 2, 3, 4]\n"
          ]
        }
      ]
    }
  ]
}
